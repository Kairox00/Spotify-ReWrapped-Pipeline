{
 "cells": [
  {
   "cell_type": "code",
   "execution_count": 1,
   "metadata": {},
   "outputs": [],
   "source": [
    "import pandas as pd\n",
    "from sqlalchemy import create_engine\n",
    "import requests\n",
    "import base64\n",
    "import datetime\n",
    "import os"
   ]
  },
  {
   "cell_type": "code",
   "execution_count": 2,
   "metadata": {},
   "outputs": [
    {
     "name": "stdout",
     "output_type": "stream",
     "text": [
      "Pipeline started\n"
     ]
    }
   ],
   "source": [
    "print(\"Pipeline started\")"
   ]
  },
  {
   "cell_type": "code",
   "execution_count": 3,
   "metadata": {},
   "outputs": [],
   "source": [
    "db_params = {\n",
    "    \"url\":os.getenv(\"DATASOURCE_URL\").split(\"//\")[1],\n",
    "    \"user\": os.getenv(\"DATASOURCE_USERNAME\"),\n",
    "    \"password\": os.getenv(\"DATASOURCE_PASSWORD\"),     \n",
    "}\n",
    "connection_string = \"postgresql://{user}:{password}@{url}\".format(**db_params)\n",
    "engine = create_engine(connection_string)"
   ]
  },
  {
   "cell_type": "code",
   "execution_count": 4,
   "metadata": {},
   "outputs": [
    {
     "data": {
      "application/vnd.microsoft.datawrangler.viewer.v0+json": {
       "columns": [
        {
         "name": "index",
         "rawType": "int64",
         "type": "integer"
        },
        {
         "name": "id",
         "rawType": "object",
         "type": "unknown"
        },
        {
         "name": "email",
         "rawType": "object",
         "type": "unknown"
        },
        {
         "name": "name",
         "rawType": "object",
         "type": "unknown"
        },
        {
         "name": "refresh_token",
         "rawType": "object",
         "type": "unknown"
        },
        {
         "name": "access_token",
         "rawType": "object",
         "type": "unknown"
        }
       ],
       "ref": "263c239a-dba3-4716-9efa-a7b21336d9e7",
       "rows": [],
       "shape": {
        "columns": 5,
        "rows": 0
       }
      },
      "text/html": [
       "<div>\n",
       "<style scoped>\n",
       "    .dataframe tbody tr th:only-of-type {\n",
       "        vertical-align: middle;\n",
       "    }\n",
       "\n",
       "    .dataframe tbody tr th {\n",
       "        vertical-align: top;\n",
       "    }\n",
       "\n",
       "    .dataframe thead th {\n",
       "        text-align: right;\n",
       "    }\n",
       "</style>\n",
       "<table border=\"1\" class=\"dataframe\">\n",
       "  <thead>\n",
       "    <tr style=\"text-align: right;\">\n",
       "      <th></th>\n",
       "      <th>id</th>\n",
       "      <th>email</th>\n",
       "      <th>name</th>\n",
       "      <th>refresh_token</th>\n",
       "      <th>access_token</th>\n",
       "    </tr>\n",
       "  </thead>\n",
       "  <tbody>\n",
       "  </tbody>\n",
       "</table>\n",
       "</div>"
      ],
      "text/plain": [
       "Empty DataFrame\n",
       "Columns: [id, email, name, refresh_token, access_token]\n",
       "Index: []"
      ]
     },
     "execution_count": 4,
     "metadata": {},
     "output_type": "execute_result"
    }
   ],
   "source": [
    "users = pd.read_sql(\"SELECT * FROM users\", engine)\n",
    "users['access_token'] = None\n",
    "users"
   ]
  },
  {
   "cell_type": "code",
   "execution_count": null,
   "metadata": {},
   "outputs": [],
   "source": [
    "if users.empty:\n",
    "    print(\"No users found in the database.\")\n",
    "    exit()"
   ]
  },
  {
   "cell_type": "code",
   "execution_count": 5,
   "metadata": {},
   "outputs": [],
   "source": [
    "refresh_token = users.loc[0,'refresh_token']\n",
    "client_id = \"6a6355fbeb044695930d74e002d91214\"\n",
    "client_secret = \"2722c709f97248889ba35a4f33069ced\"\n",
    "\n",
    "auth_string = f\"{client_id}:{client_secret}\"\n",
    "auth_bytes = auth_string.encode('utf-8')\n",
    "auth_base64 = base64.b64encode(auth_bytes).decode('utf-8')\n",
    "\n",
    "url = \"https://accounts.spotify.com/api/token\"\n",
    "headers = {\n",
    "    \"Content-Type\": \"application/x-www-form-urlencoded\",\n",
    "    \"Authorization\": f\"Basic {auth_base64}\"\n",
    "}\n",
    "for i, user in users.iterrows():\n",
    "    data = {\n",
    "        \"grant_type\": \"refresh_token\",\n",
    "        \"refresh_token\": refresh_token,\n",
    "    }\n",
    "    response = requests.post(url, headers=headers, data=data)\n",
    "    if response.status_code == 200:\n",
    "        response_json = response.json()\n",
    "        users.loc[0,'access_token'] = response_json['access_token']\n",
    "    else:\n",
    "        print(f\"Error: {response.content}\")"
   ]
  },
  {
   "cell_type": "code",
   "execution_count": 7,
   "metadata": {},
   "outputs": [
    {
     "data": {
      "application/vnd.microsoft.datawrangler.viewer.v0+json": {
       "columns": [
        {
         "name": "index",
         "rawType": "int64",
         "type": "integer"
        },
        {
         "name": "rank",
         "rawType": "object",
         "type": "unknown"
        },
        {
         "name": "user_id",
         "rawType": "object",
         "type": "unknown"
        },
        {
         "name": "artist_id",
         "rawType": "object",
         "type": "unknown"
        },
        {
         "name": "artist_name",
         "rawType": "object",
         "type": "unknown"
        },
        {
         "name": "month",
         "rawType": "object",
         "type": "unknown"
        },
        {
         "name": "year",
         "rawType": "object",
         "type": "unknown"
        }
       ],
       "ref": "c3db7fdc-23bb-48c9-a7a7-a1e9ef110289",
       "rows": [],
       "shape": {
        "columns": 6,
        "rows": 0
       }
      },
      "text/html": [
       "<div>\n",
       "<style scoped>\n",
       "    .dataframe tbody tr th:only-of-type {\n",
       "        vertical-align: middle;\n",
       "    }\n",
       "\n",
       "    .dataframe tbody tr th {\n",
       "        vertical-align: top;\n",
       "    }\n",
       "\n",
       "    .dataframe thead th {\n",
       "        text-align: right;\n",
       "    }\n",
       "</style>\n",
       "<table border=\"1\" class=\"dataframe\">\n",
       "  <thead>\n",
       "    <tr style=\"text-align: right;\">\n",
       "      <th></th>\n",
       "      <th>rank</th>\n",
       "      <th>user_id</th>\n",
       "      <th>artist_id</th>\n",
       "      <th>artist_name</th>\n",
       "      <th>month</th>\n",
       "      <th>year</th>\n",
       "    </tr>\n",
       "  </thead>\n",
       "  <tbody>\n",
       "  </tbody>\n",
       "</table>\n",
       "</div>"
      ],
      "text/plain": [
       "Empty DataFrame\n",
       "Columns: [rank, user_id, artist_id, artist_name, month, year]\n",
       "Index: []"
      ]
     },
     "execution_count": 7,
     "metadata": {},
     "output_type": "execute_result"
    }
   ],
   "source": [
    "top_artists = pd.read_sql(\"SELECT * FROM user_top_artist\", engine)\n",
    "top_artists"
   ]
  },
  {
   "cell_type": "code",
   "execution_count": 8,
   "metadata": {},
   "outputs": [
    {
     "data": {
      "application/vnd.microsoft.datawrangler.viewer.v0+json": {
       "columns": [
        {
         "name": "index",
         "rawType": "int64",
         "type": "integer"
        },
        {
         "name": "rank",
         "rawType": "object",
         "type": "unknown"
        },
        {
         "name": "user_id",
         "rawType": "object",
         "type": "unknown"
        },
        {
         "name": "artist_id",
         "rawType": "object",
         "type": "string"
        },
        {
         "name": "artist_name",
         "rawType": "object",
         "type": "string"
        },
        {
         "name": "month",
         "rawType": "object",
         "type": "string"
        },
        {
         "name": "year",
         "rawType": "object",
         "type": "string"
        }
       ],
       "ref": "f1fa0044-e7e4-4f0d-a212-c113b4722e74",
       "rows": [
        [
         "0",
         "1",
         "1",
         "06HL4z0CvFAxyc27GXpf02",
         "Taylor Swift",
         "06",
         "2025"
        ],
        [
         "0",
         "2",
         "1",
         "4tuJ0bMpJh08umKkEXKUI5",
         "Gracie Abrams",
         "06",
         "2025"
        ],
        [
         "0",
         "3",
         "1",
         "0avMDS4HyoCEP6RqZJWpY2",
         "Ethel Cain",
         "06",
         "2025"
        ],
        [
         "0",
         "4",
         "1",
         "2FXC3k01G6Gw61bmprjgqS",
         "Hozier",
         "06",
         "2025"
        ],
        [
         "0",
         "5",
         "1",
         "2qxJFvFYMEDqd7ui6kSAcq",
         "Zedd",
         "06",
         "2025"
        ],
        [
         "0",
         "6",
         "1",
         "3YQKmKGau1PzlVlkL1iodx",
         "Twenty One Pilots",
         "06",
         "2025"
        ]
       ],
       "shape": {
        "columns": 6,
        "rows": 6
       }
      },
      "text/html": [
       "<div>\n",
       "<style scoped>\n",
       "    .dataframe tbody tr th:only-of-type {\n",
       "        vertical-align: middle;\n",
       "    }\n",
       "\n",
       "    .dataframe tbody tr th {\n",
       "        vertical-align: top;\n",
       "    }\n",
       "\n",
       "    .dataframe thead th {\n",
       "        text-align: right;\n",
       "    }\n",
       "</style>\n",
       "<table border=\"1\" class=\"dataframe\">\n",
       "  <thead>\n",
       "    <tr style=\"text-align: right;\">\n",
       "      <th></th>\n",
       "      <th>rank</th>\n",
       "      <th>user_id</th>\n",
       "      <th>artist_id</th>\n",
       "      <th>artist_name</th>\n",
       "      <th>month</th>\n",
       "      <th>year</th>\n",
       "    </tr>\n",
       "  </thead>\n",
       "  <tbody>\n",
       "    <tr>\n",
       "      <th>0</th>\n",
       "      <td>1</td>\n",
       "      <td>1</td>\n",
       "      <td>06HL4z0CvFAxyc27GXpf02</td>\n",
       "      <td>Taylor Swift</td>\n",
       "      <td>06</td>\n",
       "      <td>2025</td>\n",
       "    </tr>\n",
       "    <tr>\n",
       "      <th>0</th>\n",
       "      <td>2</td>\n",
       "      <td>1</td>\n",
       "      <td>4tuJ0bMpJh08umKkEXKUI5</td>\n",
       "      <td>Gracie Abrams</td>\n",
       "      <td>06</td>\n",
       "      <td>2025</td>\n",
       "    </tr>\n",
       "    <tr>\n",
       "      <th>0</th>\n",
       "      <td>3</td>\n",
       "      <td>1</td>\n",
       "      <td>0avMDS4HyoCEP6RqZJWpY2</td>\n",
       "      <td>Ethel Cain</td>\n",
       "      <td>06</td>\n",
       "      <td>2025</td>\n",
       "    </tr>\n",
       "    <tr>\n",
       "      <th>0</th>\n",
       "      <td>4</td>\n",
       "      <td>1</td>\n",
       "      <td>2FXC3k01G6Gw61bmprjgqS</td>\n",
       "      <td>Hozier</td>\n",
       "      <td>06</td>\n",
       "      <td>2025</td>\n",
       "    </tr>\n",
       "    <tr>\n",
       "      <th>0</th>\n",
       "      <td>5</td>\n",
       "      <td>1</td>\n",
       "      <td>2qxJFvFYMEDqd7ui6kSAcq</td>\n",
       "      <td>Zedd</td>\n",
       "      <td>06</td>\n",
       "      <td>2025</td>\n",
       "    </tr>\n",
       "    <tr>\n",
       "      <th>0</th>\n",
       "      <td>6</td>\n",
       "      <td>1</td>\n",
       "      <td>3YQKmKGau1PzlVlkL1iodx</td>\n",
       "      <td>Twenty One Pilots</td>\n",
       "      <td>06</td>\n",
       "      <td>2025</td>\n",
       "    </tr>\n",
       "  </tbody>\n",
       "</table>\n",
       "</div>"
      ],
      "text/plain": [
       "  rank user_id               artist_id        artist_name month  year\n",
       "0    1       1  06HL4z0CvFAxyc27GXpf02       Taylor Swift    06  2025\n",
       "0    2       1  4tuJ0bMpJh08umKkEXKUI5      Gracie Abrams    06  2025\n",
       "0    3       1  0avMDS4HyoCEP6RqZJWpY2         Ethel Cain    06  2025\n",
       "0    4       1  2FXC3k01G6Gw61bmprjgqS             Hozier    06  2025\n",
       "0    5       1  2qxJFvFYMEDqd7ui6kSAcq               Zedd    06  2025\n",
       "0    6       1  3YQKmKGau1PzlVlkL1iodx  Twenty One Pilots    06  2025"
      ]
     },
     "execution_count": 8,
     "metadata": {},
     "output_type": "execute_result"
    }
   ],
   "source": [
    "url = \"https://api.spotify.com/v1/me/top/artists?time_range=short_term\"\n",
    "date = datetime.datetime.now()\n",
    "year = date.strftime(\"%Y\")\n",
    "month = date.strftime(\"%m\")\n",
    "for i, user in users.iterrows():\n",
    "    headers = {\n",
    "        \"Authorization\": f\"Bearer {users.loc[0,'access_token']}\"\n",
    "    }\n",
    "    response = requests.get(url, headers=headers)\n",
    "    artists =response.json()['items']\n",
    "    for rank, artist in enumerate(artists):\n",
    "        record = {\n",
    "            \"rank\": rank+1,\n",
    "            \"user_id\": user['id'],\n",
    "            \"year\": year,\n",
    "            \"month\": month,\n",
    "            \"artist_id\": artist['id'],\n",
    "            \"artist_name\": artist['name'],\n",
    "        }\n",
    "        record_df = pd.DataFrame(record, index=[0])\n",
    "        top_artists = pd.concat([top_artists,record_df])\n",
    "top_artists = top_artists.drop_duplicates(['user_id', 'artist_id', 'year', 'month'])\n",
    "top_artists"
   ]
  },
  {
   "cell_type": "code",
   "execution_count": 10,
   "metadata": {},
   "outputs": [
    {
     "data": {
      "text/plain": [
       "6"
      ]
     },
     "execution_count": 10,
     "metadata": {},
     "output_type": "execute_result"
    }
   ],
   "source": [
    "top_artists.to_sql('user_top_artist', engine, index=False, if_exists='append')"
   ]
  },
  {
   "cell_type": "code",
   "execution_count": null,
   "metadata": {},
   "outputs": [],
   "source": [
    "print(\"Pipeline Finished\")"
   ]
  }
 ],
 "metadata": {
  "kernelspec": {
   "display_name": "base",
   "language": "python",
   "name": "python3"
  },
  "language_info": {
   "codemirror_mode": {
    "name": "ipython",
    "version": 3
   },
   "file_extension": ".py",
   "mimetype": "text/x-python",
   "name": "python",
   "nbconvert_exporter": "python",
   "pygments_lexer": "ipython3",
   "version": "3.11.5"
  }
 },
 "nbformat": 4,
 "nbformat_minor": 2
}
