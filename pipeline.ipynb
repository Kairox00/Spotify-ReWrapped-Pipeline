{
 "cells": [
  {
   "cell_type": "code",
   "execution_count": 1,
   "metadata": {},
   "outputs": [],
   "source": [
    "import pandas as pd\n",
    "from sqlalchemy import create_engine\n",
    "import requests\n",
    "import base64\n",
    "import datetime\n",
    "import os"
   ]
  },
  {
   "cell_type": "code",
   "execution_count": 2,
   "metadata": {},
   "outputs": [],
   "source": [
    "def get_engine():\n",
    "    db_params = {\n",
    "        \"url\":os.getenv(\"DATASOURCE_URL\").split(\"//\")[1],\n",
    "        \"user\": os.getenv(\"DATASOURCE_USERNAME\"),\n",
    "        \"password\": os.getenv(\"DATASOURCE_PASSWORD\"),     \n",
    "    }\n",
    "    connection_string = \"postgresql://{user}:{password}@{url}\".format(**db_params)\n",
    "    engine = create_engine(connection_string)\n",
    "    return engine"
   ]
  },
  {
   "cell_type": "code",
   "execution_count": 3,
   "metadata": {},
   "outputs": [],
   "source": [
    "def get_users(engine):\n",
    "  users = pd.read_sql(\"SELECT * FROM users\", engine)\n",
    "  users['access_token'] = None\n",
    "  return users"
   ]
  },
  {
   "cell_type": "code",
   "execution_count": 4,
   "metadata": {},
   "outputs": [],
   "source": [
    "def add_access_tokens(users):\n",
    "    refresh_token = users.loc[0,'refresh_token']\n",
    "    client_id = \"6a6355fbeb044695930d74e002d91214\"\n",
    "    client_secret = \"2722c709f97248889ba35a4f33069ced\"\n",
    "\n",
    "    auth_string = f\"{client_id}:{client_secret}\"\n",
    "    auth_bytes = auth_string.encode('utf-8')\n",
    "    auth_base64 = base64.b64encode(auth_bytes).decode('utf-8')\n",
    "\n",
    "    url = \"https://accounts.spotify.com/api/token\"\n",
    "    headers = {\n",
    "        \"Content-Type\": \"application/x-www-form-urlencoded\",\n",
    "        \"Authorization\": f\"Basic {auth_base64}\"\n",
    "    }\n",
    "    for i, user in users.iterrows():\n",
    "        data = {\n",
    "            \"grant_type\": \"refresh_token\",\n",
    "            \"refresh_token\": refresh_token,\n",
    "        }\n",
    "        response = requests.post(url, headers=headers, data=data)\n",
    "        if response.status_code == 200:\n",
    "            response_json = response.json()\n",
    "            users.loc[0,'access_token'] = response_json['access_token']\n",
    "        else:\n",
    "            print(f\"Error: {response.content}\")"
   ]
  },
  {
   "cell_type": "code",
   "execution_count": 5,
   "metadata": {},
   "outputs": [],
   "source": [
    "def get_top_artists(users, engine):\n",
    "    top_artists = pd.read_sql(\"SELECT * FROM user_top_artist\", engine)\n",
    "    url = \"https://api.spotify.com/v1/me/top/artists?time_range=short_term\"\n",
    "    date = datetime.datetime.now()\n",
    "    year = date.strftime(\"%Y\")\n",
    "    month = date.strftime(\"%m\")\n",
    "    for i, user in users.iterrows():\n",
    "        headers = {\n",
    "            \"Authorization\": f\"Bearer {users.loc[0,'access_token']}\"\n",
    "        }\n",
    "        response = requests.get(url, headers=headers)\n",
    "        artists =response.json()['items']\n",
    "        for rank, artist in enumerate(artists):\n",
    "            record = {\n",
    "                \"rank\": rank+1,\n",
    "                \"user_id\": user['id'],\n",
    "                \"year\": year,\n",
    "                \"month\": month,\n",
    "                \"artist_id\": artist['id'],\n",
    "                \"artist_name\": artist['name'],\n",
    "            }\n",
    "            record_df = pd.DataFrame(record, index=[0])\n",
    "            top_artists = pd.concat([top_artists,record_df])\n",
    "    top_artists = top_artists.drop_duplicates(['user_id', 'artist_id', 'year', 'month'])\n",
    "    return top_artists"
   ]
  },
  {
   "cell_type": "code",
   "execution_count": 6,
   "metadata": {},
   "outputs": [],
   "source": [
    "def main():\n",
    "    print(\"Pipeline Started\")\n",
    "\n",
    "    engine = get_engine()\n",
    "    users = get_users(engine)\n",
    "    if users.empty:\n",
    "        print(\"No users found\")\n",
    "        return\n",
    "    add_access_tokens(users)\n",
    "    top_artists = get_top_artists(users, engine)\n",
    "    top_artists.to_sql('user_top_artist', engine, index=False, if_exists='replace')\n",
    "\n",
    "    print(\"Pipeline Finished\")"
   ]
  }
 ],
 "metadata": {
  "kernelspec": {
   "display_name": "base",
   "language": "python",
   "name": "python3"
  },
  "language_info": {
   "codemirror_mode": {
    "name": "ipython",
    "version": 3
   },
   "file_extension": ".py",
   "mimetype": "text/x-python",
   "name": "python",
   "nbconvert_exporter": "python",
   "pygments_lexer": "ipython3",
   "version": "3.11.5"
  }
 },
 "nbformat": 4,
 "nbformat_minor": 2
}
